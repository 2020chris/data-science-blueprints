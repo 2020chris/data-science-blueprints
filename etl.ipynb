{
 "cells": [
  {
   "cell_type": "markdown",
   "metadata": {},
   "source": [
    "# Transforming and joining raw data\n",
    "\n",
    "The \"raw\" data is divided among the following tables:\n",
    "\n",
    "- **Customer metadata**\n",
    "  - customerID\n",
    "  - gender\n",
    "  - date of birth (we'll derive age and senior citizen status from this)\n",
    "  - Partner\n",
    "  - Dependents\n",
    "  - (nominal) MonthlyCharges\n",
    "- **Billing events**\n",
    "  - customerID\n",
    "  - date (we'll derive tenure from the number/duration of billing events)\n",
    "  - kind (one of \"AccountCreation\", \"Charge\", or \"AccountTermination\")\n",
    "  - value (either a positive nonzero amount or 0.00; we'll derive TotalCharges from the sum of amounts and Churn from the existence of an AccountTermination event)\n",
    "- **Customer phone features**\n",
    "  - customerID\n",
    "  - feature (one of \"PhoneService\" or \"MultipleLines\")\n",
    "- **Customer internet features**\n",
    "  - customerID\n",
    "  - feature (one of \"InternetService\", \"OnlineSecurity\", \"OnlineBackup\", \"DeviceProtection\", \"TechSupport\", \"StreamingTV\", \"StreamingMovies\")\n",
    "  - value (one of \"Fiber\", \"DSL\", \"Yes\", \"No\")\n",
    "- **Customer account features**\n",
    "  - customerID\n",
    "  - feature (one of \"Contract\", \"PaperlessBilling\", \"PaymentMethod\")\n",
    "  - value (one of \"Month-to-month\", \"One year\", \"Two year\", \"No\", \"Yes\", \"Credit card (automatic)\", \"Mailed check\", \"Bank transfer (automatic)\", \"Electronic check\")\n",
    "\n",
    "We want to join these together to reconstitute a training data set with this schema:\n",
    "\n",
    "- customerID\n",
    "- gender\n",
    "- SeniorCitizen\n",
    "- Partner\n",
    "- Dependents\n",
    "- tenure\n",
    "- PhoneService\n",
    "- MultipleLines\n",
    "- InternetService\n",
    "- OnlineSecurity\n",
    "- OnlineBackup\n",
    "- DeviceProtection\n",
    "- TechSupport\n",
    "- StreamingTV\n",
    "- StreamingMovies\n",
    "- Contract\n",
    "- PaperlessBilling\n",
    "- PaymentMethod\n",
    "- MonthlyCharges\n",
    "- TotalCharges\n",
    "- Churn"
   ]
  },
  {
   "cell_type": "code",
   "execution_count": null,
   "metadata": {
    "tags": [
     "parameters"
    ]
   },
   "outputs": [],
   "source": [
    "# notebook parameters\n",
    "\n",
    "import os\n",
    "\n",
    "spark_master = \"local[*]\"\n",
    "app_name = \"churn-etl\"\n",
    "input_files = dict(\n",
    "    billing=\"billing_events\", \n",
    "    account_features=\"customer_account_features\", \n",
    "    internet_features=\"customer_internet_features\", \n",
    "    meta=\"customer_meta\", \n",
    "    phone_features=\"customer_phone_features\"\n",
    ")\n",
    "output_file = \"churn-etl\"\n",
    "output_prefix = \"\"\n",
    "output_mode = \"overwrite\"\n",
    "output_kind = \"csv\"\n",
    "input_kind = \"csv\"\n"
   ]
  },
  {
   "cell_type": "code",
   "execution_count": null,
   "metadata": {},
   "outputs": [],
   "source": [
    "import pyspark\n",
    "\n",
    "session = pyspark.sql.SparkSession.builder \\\n",
    "    .master(spark_master) \\\n",
    "    .appName(app_name) \\\n",
    "    .config(\"spark.eventLog.enabled\", True) \\\n",
    "    .config(\"spark.eventLog.dir\", \".\") \\\n",
    "    .getOrCreate()\n",
    "session"
   ]
  },
  {
   "cell_type": "code",
   "execution_count": null,
   "metadata": {},
   "outputs": [],
   "source": [
    "def read_df(fn):\n",
    "    kwargs = {}\n",
    "    if input_kind == \"csv\":\n",
    "        kwargs['header'] = True\n",
    "    return getattr(session.read, input_kind)(\"%s.%s\" % (fn, input_kind), **kwargs)"
   ]
  },
  {
   "cell_type": "markdown",
   "metadata": {},
   "source": [
    "# Reconstructing billing events and charges"
   ]
  },
  {
   "cell_type": "code",
   "execution_count": null,
   "metadata": {},
   "outputs": [],
   "source": [
    "billing_events = read_df(input_files[\"billing\"])\n",
    "billing_events.printSchema()"
   ]
  },
  {
   "cell_type": "code",
   "execution_count": null,
   "metadata": {},
   "outputs": [],
   "source": [
    "billing_events = billing_events.withColumn(\"value\", billing_events.value.cast(\"float\"))"
   ]
  },
  {
   "cell_type": "code",
   "execution_count": null,
   "metadata": {},
   "outputs": [],
   "source": [
    "import pyspark.sql.functions as F\n",
    "\n",
    "counts_and_charges = billing_events. \\\n",
    "   groupBy(\"customerID\", \"kind\"). \\\n",
    "   agg(\n",
    "    F.count(billing_events.value).alias(\"event_counts\"), \n",
    "    F.sum(billing_events.value).alias(\"total_charges\")\n",
    "   )\n"
   ]
  },
  {
   "cell_type": "code",
   "execution_count": null,
   "metadata": {},
   "outputs": [],
   "source": [
    "customers = billing_events.select(\"customerID\").distinct()\n",
    "\n",
    "terminations = billing_events.where(\n",
    "    F.col(\"kind\") == \"AccountTermination\"\n",
    ").select(\n",
    "    F.col(\"customerID\").alias(\"Churn\")\n",
    ")\n",
    "\n",
    "churned = customers.join(\n",
    "    terminations, \n",
    "    customers.customerID == terminations.Churn, \n",
    "    how=\"leftouter\"\n",
    ").select(\n",
    "    \"customerID\", \n",
    "    F.when(\n",
    "        F.col(\"Churn\").isNull(), \"No\"\n",
    "    ).otherwise(\"Yes\").alias(\"Churn\")\n",
    ")\n",
    "\n",
    "customer_charges = customers.join(\n",
    "        counts_and_charges.where(F.col(\"kind\") == \"Charge\"), \n",
    "        \"customerID\"   \n",
    "    ).select(\n",
    "        \"customerID\",\n",
    "        F.col(\"event_counts\").alias(\"tenure\"),\n",
    "        F.col(\"total_charges\").alias(\"TotalCharges\")\n",
    "    )\n",
    "    \n",
    "customer_billing = churned.join(\n",
    "    customer_charges, \n",
    "    \"customerID\"\n",
    ")"
   ]
  },
  {
   "cell_type": "code",
   "execution_count": null,
   "metadata": {},
   "outputs": [],
   "source": [
    "customer_billing.show()"
   ]
  },
  {
   "cell_type": "markdown",
   "metadata": {},
   "source": [
    "# Reconstructing phone features\n"
   ]
  },
  {
   "cell_type": "code",
   "execution_count": null,
   "metadata": {},
   "outputs": [],
   "source": [
    "phone_features = read_df(input_files[\"phone_features\"])\n",
    "phone_features.printSchema()"
   ]
  },
  {
   "cell_type": "code",
   "execution_count": null,
   "metadata": {},
   "outputs": [],
   "source": [
    "phone_service = phone_features.where(\n",
    "    F.col(\"feature\") == \"PhoneService\"\n",
    ").select(\"customerID\", F.lit(\"Yes\").alias(\"PhoneService\"))\n",
    "\n",
    "multiple_lines = phone_features.where(\n",
    "    F.col(\"feature\") == \"MultipleLines\"\n",
    ").select(\"customerID\", F.lit(\"Yes\").alias(\"MultipleLines\"))\n"
   ]
  },
  {
   "cell_type": "code",
   "execution_count": null,
   "metadata": {},
   "outputs": [],
   "source": [
    "customer_phone_features = customers.join(\n",
    "    phone_service,\n",
    "    \"customerID\", \n",
    "    how=\"leftouter\"\n",
    ").join(\n",
    "    multiple_lines,\n",
    "    \"customerID\", \n",
    "    how=\"leftouter\"    \n",
    ").select(\n",
    "    \"customerID\",\n",
    "    F.when(\n",
    "        F.col(\"PhoneService\").isNull(), \"No\"\n",
    "    ).otherwise(\"Yes\").alias(\"PhoneService\"),\n",
    "    \"MultipleLines\"\n",
    ").select(\n",
    "    \"customerID\",\n",
    "    \"PhoneService\",\n",
    "    F.when(\n",
    "        F.col(\"PhoneService\") == \"No\", \"No phone service\"\n",
    "    ).otherwise(\n",
    "        F.when(\n",
    "            F.col(\"MultipleLines\").isNull(), \"No\"\n",
    "        ).otherwise(\"Yes\")\n",
    "    ).alias(\"MultipleLines\")\n",
    ")"
   ]
  },
  {
   "cell_type": "markdown",
   "metadata": {},
   "source": [
    "# Reconstructing internet features\n",
    "\n",
    "Whereas phone features only include whether or not there are multiple lines, there are several internet-specific features in accounts:\n",
    "\n",
    "- `InternetService` (one of `Fiber optic` or `DSL` in the \"raw\" data; its absence translates to `No` in the processed data)\n",
    "- `OnlineSecurity` (`Yes` in the \"raw\" data if present; one of `No`, `Yes`, or `No internet service` in the processed data)\n",
    "- `OnlineBackup` (`Yes` in the \"raw\" data if present; one of `No`, `Yes`, or `No internet service` in the processed data)\n",
    "- `DeviceProtection` (`Yes` in the \"raw\" data if present; one of `No`, `Yes`, or `No internet service` in the processed data)\n",
    "- `TechSupport` (`Yes` in the \"raw\" data if present; one of `No`, `Yes`, or `No internet service` in the processed data)\n",
    "- `StreamingTV` (`Yes` in the \"raw\" data if present; one of `No`, `Yes`, or `No internet service` in the processed data)\n",
    "- `StreamingMovies` (`Yes` in the \"raw\" data if present; one of `No`, `Yes`, or `No internet service` in the processed data)\n",
    "\n",
    "This will lead to some slightly more interesting joins!"
   ]
  },
  {
   "cell_type": "code",
   "execution_count": null,
   "metadata": {},
   "outputs": [],
   "source": [
    "internet_features = read_df(input_files[\"internet_features\"])\n",
    "internet_features.printSchema()\n",
    "internet_features.show()"
   ]
  },
  {
   "cell_type": "code",
   "execution_count": null,
   "metadata": {},
   "outputs": [],
   "source": [
    "def untidy_feature(df, feature):\n",
    "    \"\"\" 'untidies' a feature by turning it into a column \"\"\"\n",
    "    return df.where(\n",
    "        F.col(\"feature\") == feature\n",
    "    ).select(\"customerID\", F.col(\"value\").alias(feature))\n",
    "\n",
    "internet_service = untidy_feature(internet_features, \"InternetService\")\n",
    "\n",
    "online_security = untidy_feature(internet_features, \"OnlineSecurity\")\n",
    "\n",
    "online_backup = untidy_feature(internet_features, \"OnlineBackup\")\n",
    "\n",
    "device_protection = untidy_feature(internet_features, \"DeviceProtection\")\n",
    "\n",
    "tech_support = untidy_feature(internet_features, \"TechSupport\")\n",
    "\n",
    "streaming_tv = untidy_feature(internet_features, \"StreamingTV\")\n",
    "\n",
    "streaming_movies = untidy_feature(internet_features, \"StreamingMovies\")\n"
   ]
  },
  {
   "cell_type": "code",
   "execution_count": null,
   "metadata": {},
   "outputs": [],
   "source": [
    "def chained_join(column, base_df, dfs, how=\"leftouter\"):\n",
    "    acc = base_df\n",
    "    for df in dfs:\n",
    "        acc = acc.join(df, column, how=how)\n",
    "\n",
    "    return acc\n",
    "\n",
    "customer_internet_features = chained_join(\n",
    "    \"customerID\", \n",
    "    customers,\n",
    "    [\n",
    "        internet_service, \n",
    "        online_security, \n",
    "        online_backup, \n",
    "        device_protection, \n",
    "        tech_support, \n",
    "        streaming_tv, \n",
    "        streaming_movies\n",
    "    ]\n",
    ")\n"
   ]
  },
  {
   "cell_type": "code",
   "execution_count": null,
   "metadata": {},
   "outputs": [],
   "source": [
    "def resolve_nullable_column(df, col, null_val=\"No\"):\n",
    "    return F.when(\n",
    "        df[col].isNull(), null_val\n",
    "    ).otherwise(\n",
    "        df[col]\n",
    "    ).alias(col)\n",
    "\n",
    "def resolve_dependent_column(df, col, parent_col=\"InternetService\", \n",
    "                             null_val=\"No\", \n",
    "                             null_parent_val=\"No internet service\"):\n",
    "    return F.when(\n",
    "        df[parent_col] == \"No\", null_parent_val\n",
    "    ).otherwise(\n",
    "        F.when(\n",
    "            df[col].isNull(), null_val\n",
    "        ).otherwise(df[col])\n",
    "    ).alias(col)\n",
    "\n",
    "customer_internet_features = customer_internet_features.select(\n",
    "    \"customerID\",\n",
    "    resolve_nullable_column(customer_internet_features, \"InternetService\"),\n",
    "    resolve_dependent_column(customer_internet_features, \"OnlineSecurity\", \"InternetService\"),\n",
    "    resolve_dependent_column(customer_internet_features, \"OnlineBackup\", \"InternetService\"),\n",
    "    resolve_dependent_column(customer_internet_features, \"DeviceProtection\", \"InternetService\"),\n",
    "    resolve_dependent_column(customer_internet_features, \"TechSupport\", \"InternetService\"),\n",
    "    resolve_dependent_column(customer_internet_features, \"StreamingTV\", \"InternetService\"),\n",
    "    resolve_dependent_column(customer_internet_features, \"StreamingMovies\", \"InternetService\")\n",
    ")"
   ]
  },
  {
   "cell_type": "markdown",
   "metadata": {},
   "source": [
    "# Reconstructing account features"
   ]
  },
  {
   "cell_type": "code",
   "execution_count": null,
   "metadata": {},
   "outputs": [],
   "source": [
    "account_features = read_df(input_files[\"account_features\"])\n",
    "account_features.printSchema()\n",
    "account_features.show()"
   ]
  },
  {
   "cell_type": "code",
   "execution_count": null,
   "metadata": {},
   "outputs": [],
   "source": [
    "contracts = untidy_feature(account_features, \"Contract\")\n",
    "\n",
    "paperless = untidy_feature(account_features, \"PaperlessBilling\")\n",
    "\n",
    "payment = untidy_feature(account_features, \"PaymentMethod\")\n",
    "\n",
    "customer_account_features = chained_join(\n",
    "    \"customerID\", \n",
    "    customers,\n",
    "    [contracts, paperless, payment]\n",
    ")\n",
    "\n",
    "customer_account_features = customer_account_features.select(\n",
    "    \"customerID\",\n",
    "    \"Contract\",\n",
    "    resolve_nullable_column(customer_account_features, \"PaperlessBilling\"),\n",
    "    \"PaymentMethod\"\n",
    ")"
   ]
  },
  {
   "cell_type": "markdown",
   "metadata": {},
   "source": [
    "# Account metadata"
   ]
  },
  {
   "cell_type": "code",
   "execution_count": null,
   "metadata": {},
   "outputs": [],
   "source": [
    "account_meta = read_df(input_files[\"meta\"])\n",
    "\n",
    "account_meta.printSchema()"
   ]
  },
  {
   "cell_type": "code",
   "execution_count": null,
   "metadata": {},
   "outputs": [],
   "source": [
    "account_meta.select(\n",
    "    \"customerID\",\n",
    "    F.when(\n",
    "        F.col(\"now\") >= F.add_months(F.col(\"dateOfBirth\"), 65 * 12), \n",
    "        \"Yes\"\n",
    "    ).otherwise(\"No\").alias(\"SeniorCitizen\"),\n",
    "    \"Partner\",\n",
    "    \"Dependents\",\n",
    "    \"gender\",\n",
    "    \"MonthlyCharges\"\n",
    ").show()"
   ]
  },
  {
   "cell_type": "markdown",
   "metadata": {},
   "source": [
    "# Putting it all together"
   ]
  },
  {
   "cell_type": "code",
   "execution_count": null,
   "metadata": {},
   "outputs": [],
   "source": [
    "wide_data = chained_join(\n",
    "    \"customerID\",\n",
    "    customers,\n",
    "    [\n",
    "        customer_billing,\n",
    "        customer_phone_features,\n",
    "        customer_internet_features,\n",
    "        customer_account_features,\n",
    "        account_meta\n",
    "    ]\n",
    ").select(\n",
    "    \"customerID\", \n",
    "    \"gender\", \n",
    "    \"SeniorCitizen\", \n",
    "    \"Partner\", \n",
    "    \"Dependents\", \n",
    "    \"tenure\", \n",
    "    \"PhoneService\", \n",
    "    \"MultipleLines\", \n",
    "    \"InternetService\", \n",
    "    \"OnlineSecurity\", \n",
    "    \"OnlineBackup\", \n",
    "    \"DeviceProtection\", \n",
    "    \"TechSupport\", \n",
    "    \"StreamingTV\", \n",
    "    \"StreamingMovies\", \n",
    "    \"Contract\", \n",
    "    \"PaperlessBilling\", \n",
    "    \"PaymentMethod\", \n",
    "    \"MonthlyCharges\", \n",
    "    \"TotalCharges\", \n",
    "    \"Churn\"\n",
    ")"
   ]
  },
  {
   "cell_type": "code",
   "execution_count": null,
   "metadata": {
    "scrolled": false
   },
   "outputs": [],
   "source": [
    "wide_data.explain()"
   ]
  },
  {
   "cell_type": "code",
   "execution_count": null,
   "metadata": {},
   "outputs": [],
   "source": [
    "def write_df(df, name):\n",
    "    name = \"%s.%s\" % (name, output_kind)\n",
    "    if output_prefix != \"\":\n",
    "        name = \"%s-%s\" % (output_prefix, name)\n",
    "    kwargs = {}\n",
    "    if output_kind == \"csv\":\n",
    "        kwargs['header'] = True\n",
    "    getattr(df.write.mode(output_mode), output_kind)(name, **kwargs)"
   ]
  },
  {
   "cell_type": "code",
   "execution_count": null,
   "metadata": {},
   "outputs": [],
   "source": [
    "write_df(wide_data, output_file)"
   ]
  },
  {
   "cell_type": "code",
   "execution_count": null,
   "metadata": {},
   "outputs": [],
   "source": [
    "session.stop()"
   ]
  },
  {
   "cell_type": "code",
   "execution_count": null,
   "metadata": {},
   "outputs": [],
   "source": []
  }
 ],
 "metadata": {
  "celltoolbar": "Tags",
  "kernelspec": {
   "display_name": "Python 3",
   "language": "python",
   "name": "python3"
  },
  "language_info": {
   "codemirror_mode": {
    "name": "ipython",
    "version": 3
   },
   "file_extension": ".py",
   "mimetype": "text/x-python",
   "name": "python",
   "nbconvert_exporter": "python",
   "pygments_lexer": "ipython3",
   "version": "3.8.5"
  }
 },
 "nbformat": 4,
 "nbformat_minor": 4
}
