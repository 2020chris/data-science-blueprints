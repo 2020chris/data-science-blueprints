{
 "cells": [
  {
   "cell_type": "markdown",
   "metadata": {},
   "source": [
    "# Transforming and joining raw data\n",
    "\n",
    "The \"raw\" data is divided among the following tables:\n",
    "\n",
    "- **Customer metadata**\n",
    "  - customerID\n",
    "  - gender\n",
    "  - date of birth (we'll derive age and senior citizen status from this)\n",
    "  - Partner\n",
    "  - Dependents\n",
    "  - (nominal) MonthlyCharges\n",
    "- **Billing events**\n",
    "  - customerID\n",
    "  - date (we'll derive tenure from the number/duration of billing events)\n",
    "  - kind (one of \"AccountCreation\", \"Charge\", or \"AccountTermination\")\n",
    "  - value (either a positive nonzero amount or 0.00; we'll derive TotalCharges from the sum of amounts and Churn from the existence of an AccountTermination event)\n",
    "- **Customer phone features**\n",
    "  - customerID\n",
    "  - feature (one of \"PhoneService\" or \"MultipleLines\")\n",
    "- **Customer internet features**\n",
    "  - customerID\n",
    "  - feature (one of \"InternetService\", \"OnlineSecurity\", \"OnlineBackup\", \"DeviceProtection\", \"TechSupport\", \"StreamingTV\", \"StreamingMovies\")\n",
    "  - value (one of \"Fiber\", \"DSL\", \"Yes\", \"No\")\n",
    "- **Customer account features**\n",
    "  - customerID\n",
    "  - feature (one of \"Contract\", \"PaperlessBilling\", \"PaymentMethod\")\n",
    "  - value (one of \"Month-to-month\", \"One year\", \"Two year\", \"No\", \"Yes\", \"Credit card (automatic)\", \"Mailed check\", \"Bank transfer (automatic)\", \"Electronic check\")\n",
    "\n",
    "We want to join these together to reconstitute a training data set with this schema:\n",
    "\n",
    "- customerID\n",
    "- gender\n",
    "- SeniorCitizen\n",
    "- Partner\n",
    "- Dependents\n",
    "- tenure\n",
    "- PhoneService\n",
    "- MultipleLines\n",
    "- InternetService\n",
    "- OnlineSecurity\n",
    "- OnlineBackup\n",
    "- DeviceProtection\n",
    "- TechSupport\n",
    "- StreamingTV\n",
    "- StreamingMovies\n",
    "- Contract\n",
    "- PaperlessBilling\n",
    "- PaymentMethod\n",
    "- MonthlyCharges\n",
    "- TotalCharges\n",
    "- Churn"
   ]
  },
  {
   "cell_type": "code",
   "execution_count": 1,
   "metadata": {
    "tags": [
     "parameters"
    ]
   },
   "outputs": [],
   "source": [
    "# notebook parameters\n",
    "\n",
    "import os\n",
    "\n",
    "spark_master = \"local[*]\"\n",
    "app_name = \"churn-etl\"\n",
    "input_files = dict(\n",
    "    billing=\"billing_events\", \n",
    "    account_features=\"customer_account_features\", \n",
    "    internet_features=\"customer_internet_features\", \n",
    "    meta=\"customer_meta\", \n",
    "    phone_features=\"customer_phone_features\"\n",
    ")\n",
    "output_file = \"churn-etl\"\n",
    "output_prefix = \"\"\n",
    "output_mode = \"overwrite\"\n",
    "output_kind = \"csv\"\n",
    "input_kind = \"csv\"\n"
   ]
  },
  {
   "cell_type": "code",
   "execution_count": 2,
   "metadata": {},
   "outputs": [
    {
     "data": {
      "text/html": [
       "\n",
       "            <div>\n",
       "                <p><b>SparkSession - in-memory</b></p>\n",
       "                \n",
       "        <div>\n",
       "            <p><b>SparkContext</b></p>\n",
       "\n",
       "            <p><a href=\"http://192.168.7.63:4040\">Spark UI</a></p>\n",
       "\n",
       "            <dl>\n",
       "              <dt>Version</dt>\n",
       "                <dd><code>v3.0.1</code></dd>\n",
       "              <dt>Master</dt>\n",
       "                <dd><code>local[*]</code></dd>\n",
       "              <dt>AppName</dt>\n",
       "                <dd><code>churn-etl</code></dd>\n",
       "            </dl>\n",
       "        </div>\n",
       "        \n",
       "            </div>\n",
       "        "
      ],
      "text/plain": [
       "<pyspark.sql.session.SparkSession at 0x10e73bc10>"
      ]
     },
     "execution_count": 2,
     "metadata": {},
     "output_type": "execute_result"
    }
   ],
   "source": [
    "import pyspark\n",
    "\n",
    "session = pyspark.sql.SparkSession.builder \\\n",
    "    .master(spark_master) \\\n",
    "    .appName(app_name) \\\n",
    "    .config(\"spark.eventLog.enabled\", True) \\\n",
    "    .config(\"spark.eventLog.dir\", \".\") \\\n",
    "    .getOrCreate()\n",
    "session"
   ]
  },
  {
   "cell_type": "code",
   "execution_count": 3,
   "metadata": {},
   "outputs": [],
   "source": [
    "def read_df(fn):\n",
    "    kwargs = {}\n",
    "    if input_kind == \"csv\":\n",
    "        kwargs['header'] = True\n",
    "    return getattr(session.read, \"input_kind\")(\"%s.%s\" % (fn, input_kind), **kwargs)"
   ]
  },
  {
   "cell_type": "markdown",
   "metadata": {},
   "source": [
    "# Reconstructing billing events and charges"
   ]
  },
  {
   "cell_type": "code",
   "execution_count": 4,
   "metadata": {},
   "outputs": [
    {
     "name": "stdout",
     "output_type": "stream",
     "text": [
      "root\n",
      " |-- customerID: string (nullable = true)\n",
      " |-- kind: string (nullable = true)\n",
      " |-- value: string (nullable = true)\n",
      " |-- date: string (nullable = true)\n",
      "\n"
     ]
    }
   ],
   "source": [
    "billing_events = read_df(input_files[\"billing\"])\n",
    "billing_events.printSchema()"
   ]
  },
  {
   "cell_type": "code",
   "execution_count": 5,
   "metadata": {},
   "outputs": [],
   "source": [
    "billing_events = billing_events.withColumn(\"value\", billing_events.value.cast(\"float\"))"
   ]
  },
  {
   "cell_type": "code",
   "execution_count": 6,
   "metadata": {},
   "outputs": [],
   "source": [
    "import pyspark.sql.functions as F\n",
    "\n",
    "counts_and_charges = billing_events. \\\n",
    "   groupBy(\"customerID\", \"kind\"). \\\n",
    "   agg(\n",
    "    F.count(billing_events.value).alias(\"event_counts\"), \n",
    "    F.sum(billing_events.value).alias(\"total_charges\")\n",
    "   )\n"
   ]
  },
  {
   "cell_type": "code",
   "execution_count": 7,
   "metadata": {},
   "outputs": [],
   "source": [
    "customers = billing_events.select(\"customerID\").distinct()\n",
    "\n",
    "terminations = billing_events.where(\n",
    "    F.col(\"kind\") == \"AccountTermination\"\n",
    ").select(\n",
    "    F.col(\"customerID\").alias(\"Churn\")\n",
    ")\n",
    "\n",
    "churned = customers.join(\n",
    "    terminations, \n",
    "    customers.customerID == terminations.Churn, \n",
    "    how=\"leftouter\"\n",
    ").select(\n",
    "    \"customerID\", \n",
    "    F.when(\n",
    "        F.col(\"Churn\").isNull(), \"No\"\n",
    "    ).otherwise(\"Yes\").alias(\"Churn\")\n",
    ")\n",
    "\n",
    "customer_charges = customers.join(\n",
    "        counts_and_charges.where(F.col(\"kind\") == \"Charge\"), \n",
    "        \"customerID\"   \n",
    "    ).select(\n",
    "        \"customerID\",\n",
    "        F.col(\"event_counts\").alias(\"tenure\"),\n",
    "        F.col(\"total_charges\").alias(\"TotalCharges\")\n",
    "    )\n",
    "    \n",
    "customer_billing = churned.join(\n",
    "    customer_charges, \n",
    "    \"customerID\"\n",
    ")"
   ]
  },
  {
   "cell_type": "code",
   "execution_count": 8,
   "metadata": {},
   "outputs": [
    {
     "name": "stdout",
     "output_type": "stream",
     "text": [
      "+----------+-----+------+------------------+\n",
      "|customerID|Churn|tenure|      TotalCharges|\n",
      "+----------+-----+------+------------------+\n",
      "|0117-LFRMW|  Yes|    37|1448.8000221252441|\n",
      "|0356-ERHVT|   No|    11| 521.8999900817871|\n",
      "|0786-VSSUD|  Yes|    16| 679.8499755859375|\n",
      "|0953-LGOVU|   No|    12|432.24998474121094|\n",
      "|1450-SKCVI|  Yes|    56|  4092.85009765625|\n",
      "|1894-IGFSG|  Yes|    22|1907.8499298095703|\n",
      "|2011-TRQYE|  Yes|    18| 599.9999771118164|\n",
      "|2592-YKDIF|   No|     1|20.350000381469727|\n",
      "|2712-SYWAY|   No|     1|25.700000762939453|\n",
      "|3195-TQDZX|   No|     3| 61.45000076293945|\n",
      "|3528-HFRIQ|   No|    71|3765.0500144958496|\n",
      "|3623-FQBOX|   No|    21|416.39999771118164|\n",
      "|3668-QPYBK|  Yes|     2| 108.1500015258789|\n",
      "|3692-JHONH|   No|    52| 5621.850158691406|\n",
      "|4248-QPAVC|  Yes|    17|1463.4500427246094|\n",
      "|4868-AADLV|   No|    66|           7862.25|\n",
      "|5668-MEISB|   No|    72| 7657.399841308594|\n",
      "|5802-ADBRC|   No|    50| 5232.899856567383|\n",
      "|5859-HZYLF|   No|    26| 515.7499961853027|\n",
      "|6234-RAAPL|   No|    72| 7251.700012207031|\n",
      "+----------+-----+------+------------------+\n",
      "only showing top 20 rows\n",
      "\n"
     ]
    }
   ],
   "source": [
    "customer_billing.show()"
   ]
  },
  {
   "cell_type": "markdown",
   "metadata": {},
   "source": [
    "# Reconstructing phone features\n"
   ]
  },
  {
   "cell_type": "code",
   "execution_count": 9,
   "metadata": {},
   "outputs": [
    {
     "name": "stdout",
     "output_type": "stream",
     "text": [
      "root\n",
      " |-- customerID: string (nullable = true)\n",
      " |-- feature: string (nullable = true)\n",
      " |-- value: string (nullable = true)\n",
      "\n"
     ]
    }
   ],
   "source": [
    "phone_features = read_df(input_files[\"phone_features\"])\n",
    "phone_features.printSchema()"
   ]
  },
  {
   "cell_type": "code",
   "execution_count": 10,
   "metadata": {},
   "outputs": [],
   "source": [
    "phone_service = phone_features.where(\n",
    "    F.col(\"feature\") == \"PhoneService\"\n",
    ").select(\"customerID\", F.lit(\"Yes\").alias(\"PhoneService\"))\n",
    "\n",
    "multiple_lines = phone_features.where(\n",
    "    F.col(\"feature\") == \"MultipleLines\"\n",
    ").select(\"customerID\", F.lit(\"Yes\").alias(\"MultipleLines\"))\n"
   ]
  },
  {
   "cell_type": "code",
   "execution_count": 11,
   "metadata": {},
   "outputs": [],
   "source": [
    "customer_phone_features = customers.join(\n",
    "    phone_service,\n",
    "    \"customerID\", \n",
    "    how=\"leftouter\"\n",
    ").join(\n",
    "    multiple_lines,\n",
    "    \"customerID\", \n",
    "    how=\"leftouter\"    \n",
    ").select(\n",
    "    \"customerID\",\n",
    "    F.when(\n",
    "        F.col(\"PhoneService\").isNull(), \"No\"\n",
    "    ).otherwise(\"Yes\").alias(\"PhoneService\"),\n",
    "    \"MultipleLines\"\n",
    ").select(\n",
    "    \"customerID\",\n",
    "    \"PhoneService\",\n",
    "    F.when(\n",
    "        F.col(\"PhoneService\") == \"No\", \"No phone service\"\n",
    "    ).otherwise(\n",
    "        F.when(\n",
    "            F.col(\"MultipleLines\").isNull(), \"No\"\n",
    "        ).otherwise(\"Yes\")\n",
    "    ).alias(\"MultipleLines\")\n",
    ")"
   ]
  },
  {
   "cell_type": "markdown",
   "metadata": {},
   "source": [
    "# Reconstructing internet features\n",
    "\n",
    "Whereas phone features only include whether or not there are multiple lines, there are several internet-specific features in accounts:\n",
    "\n",
    "- `InternetService` (one of `Fiber optic` or `DSL` in the \"raw\" data; its absence translates to `No` in the processed data)\n",
    "- `OnlineSecurity` (`Yes` in the \"raw\" data if present; one of `No`, `Yes`, or `No internet service` in the processed data)\n",
    "- `OnlineBackup` (`Yes` in the \"raw\" data if present; one of `No`, `Yes`, or `No internet service` in the processed data)\n",
    "- `DeviceProtection` (`Yes` in the \"raw\" data if present; one of `No`, `Yes`, or `No internet service` in the processed data)\n",
    "- `TechSupport` (`Yes` in the \"raw\" data if present; one of `No`, `Yes`, or `No internet service` in the processed data)\n",
    "- `StreamingTV` (`Yes` in the \"raw\" data if present; one of `No`, `Yes`, or `No internet service` in the processed data)\n",
    "- `StreamingMovies` (`Yes` in the \"raw\" data if present; one of `No`, `Yes`, or `No internet service` in the processed data)\n",
    "\n",
    "This will lead to some slightly more interesting joins!"
   ]
  },
  {
   "cell_type": "code",
   "execution_count": 12,
   "metadata": {},
   "outputs": [
    {
     "name": "stdout",
     "output_type": "stream",
     "text": [
      "root\n",
      " |-- customerID: string (nullable = true)\n",
      " |-- feature: string (nullable = true)\n",
      " |-- value: string (nullable = true)\n",
      "\n",
      "+----------+----------------+-----------+\n",
      "|customerID|         feature|      value|\n",
      "+----------+----------------+-----------+\n",
      "|9412-GHEEC| InternetService|Fiber optic|\n",
      "|9412-GHEEC|DeviceProtection|        Yes|\n",
      "|9412-GHEEC|     TechSupport|        Yes|\n",
      "|9412-GHEEC|     StreamingTV|        Yes|\n",
      "|9412-GHEEC| StreamingMovies|        Yes|\n",
      "|9415-DPEWS| InternetService|Fiber optic|\n",
      "|9415-DPEWS|     TechSupport|        Yes|\n",
      "|9415-DPEWS|     StreamingTV|        Yes|\n",
      "|9415-TPKRV| InternetService|        DSL|\n",
      "|9415-TPKRV|    OnlineBackup|        Yes|\n",
      "|9415-ZNBSX| InternetService|        DSL|\n",
      "|9415-ZNBSX|  OnlineSecurity|        Yes|\n",
      "|9415-ZNBSX|    OnlineBackup|        Yes|\n",
      "|9415-ZNBSX|DeviceProtection|        Yes|\n",
      "|9415-ZNBSX|     TechSupport|        Yes|\n",
      "|9415-ZNBSX|     StreamingTV|        Yes|\n",
      "|9415-ZNBSX| StreamingMovies|        Yes|\n",
      "|9419-IPPBE| InternetService|Fiber optic|\n",
      "|9419-IPPBE|DeviceProtection|        Yes|\n",
      "|9419-IPPBE| StreamingMovies|        Yes|\n",
      "+----------+----------------+-----------+\n",
      "only showing top 20 rows\n",
      "\n"
     ]
    }
   ],
   "source": [
    "internet_features = read_df(input_files[\"internet_features\"])\n",
    "internet_features.printSchema()\n",
    "internet_features.show()"
   ]
  },
  {
   "cell_type": "code",
   "execution_count": 13,
   "metadata": {},
   "outputs": [],
   "source": [
    "def untidy_feature(df, feature):\n",
    "    \"\"\" 'untidies' a feature by turning it into a column \"\"\"\n",
    "    return df.where(\n",
    "        F.col(\"feature\") == feature\n",
    "    ).select(\"customerID\", F.col(\"value\").alias(feature))\n",
    "\n",
    "internet_service = untidy_feature(internet_features, \"InternetService\")\n",
    "\n",
    "online_security = untidy_feature(internet_features, \"OnlineSecurity\")\n",
    "\n",
    "online_backup = untidy_feature(internet_features, \"OnlineBackup\")\n",
    "\n",
    "device_protection = untidy_feature(internet_features, \"DeviceProtection\")\n",
    "\n",
    "tech_support = untidy_feature(internet_features, \"TechSupport\")\n",
    "\n",
    "streaming_tv = untidy_feature(internet_features, \"StreamingTV\")\n",
    "\n",
    "streaming_movies = untidy_feature(internet_features, \"StreamingMovies\")\n"
   ]
  },
  {
   "cell_type": "code",
   "execution_count": 14,
   "metadata": {},
   "outputs": [],
   "source": [
    "def chained_join(column, base_df, dfs, how=\"leftouter\"):\n",
    "    acc = base_df\n",
    "    for df in dfs:\n",
    "        acc = acc.join(df, column, how=how)\n",
    "\n",
    "    return acc\n",
    "\n",
    "customer_internet_features = chained_join(\n",
    "    \"customerID\", \n",
    "    customers,\n",
    "    [\n",
    "        internet_service, \n",
    "        online_security, \n",
    "        online_backup, \n",
    "        device_protection, \n",
    "        tech_support, \n",
    "        streaming_tv, \n",
    "        streaming_movies\n",
    "    ]\n",
    ")\n"
   ]
  },
  {
   "cell_type": "code",
   "execution_count": 15,
   "metadata": {},
   "outputs": [],
   "source": [
    "def resolve_nullable_column(df, col, null_val=\"No\"):\n",
    "    return F.when(\n",
    "        df[col].isNull(), null_val\n",
    "    ).otherwise(\n",
    "        df[col]\n",
    "    ).alias(col)\n",
    "\n",
    "def resolve_dependent_column(df, col, parent_col=\"InternetService\", \n",
    "                             null_val=\"No\", \n",
    "                             null_parent_val=\"No internet service\"):\n",
    "    return F.when(\n",
    "        df[parent_col] == \"No\", null_parent_val\n",
    "    ).otherwise(\n",
    "        F.when(\n",
    "            df[col].isNull(), null_val\n",
    "        ).otherwise(df[col])\n",
    "    ).alias(col)\n",
    "\n",
    "customer_internet_features = customer_internet_features.select(\n",
    "    \"customerID\",\n",
    "    resolve_nullable_column(customer_internet_features, \"InternetService\"),\n",
    "    resolve_dependent_column(customer_internet_features, \"OnlineSecurity\", \"InternetService\"),\n",
    "    resolve_dependent_column(customer_internet_features, \"OnlineBackup\", \"InternetService\"),\n",
    "    resolve_dependent_column(customer_internet_features, \"DeviceProtection\", \"InternetService\"),\n",
    "    resolve_dependent_column(customer_internet_features, \"TechSupport\", \"InternetService\"),\n",
    "    resolve_dependent_column(customer_internet_features, \"StreamingTV\", \"InternetService\"),\n",
    "    resolve_dependent_column(customer_internet_features, \"StreamingMovies\", \"InternetService\")\n",
    ")"
   ]
  },
  {
   "cell_type": "markdown",
   "metadata": {},
   "source": [
    "# Reconstructing account features"
   ]
  },
  {
   "cell_type": "code",
   "execution_count": 16,
   "metadata": {},
   "outputs": [
    {
     "name": "stdout",
     "output_type": "stream",
     "text": [
      "root\n",
      " |-- customerID: string (nullable = true)\n",
      " |-- feature: string (nullable = true)\n",
      " |-- value: string (nullable = true)\n",
      "\n",
      "+----------+-------------+--------------------+\n",
      "|customerID|      feature|               value|\n",
      "+----------+-------------+--------------------+\n",
      "|7590-VHVEG|PaymentMethod|    Electronic check|\n",
      "|5575-GNVDE|PaymentMethod|        Mailed check|\n",
      "|3668-QPYBK|PaymentMethod|        Mailed check|\n",
      "|7795-CFOCW|PaymentMethod|Bank transfer (au...|\n",
      "|9237-HQITU|PaymentMethod|    Electronic check|\n",
      "|9305-CDSKC|PaymentMethod|    Electronic check|\n",
      "|1452-KIOVK|PaymentMethod|Credit card (auto...|\n",
      "|6713-OKOMC|PaymentMethod|        Mailed check|\n",
      "|7892-POOKP|PaymentMethod|    Electronic check|\n",
      "|6388-TABGU|PaymentMethod|Bank transfer (au...|\n",
      "|9763-GRSKD|PaymentMethod|        Mailed check|\n",
      "|7469-LKBCI|PaymentMethod|Credit card (auto...|\n",
      "|8091-TTVAX|PaymentMethod|Credit card (auto...|\n",
      "|0280-XJGEX|PaymentMethod|Bank transfer (au...|\n",
      "|5129-JLPIS|PaymentMethod|    Electronic check|\n",
      "|3655-SNQYZ|PaymentMethod|Credit card (auto...|\n",
      "|8191-XWSZG|PaymentMethod|        Mailed check|\n",
      "|9959-WOFKT|PaymentMethod|Bank transfer (au...|\n",
      "|4190-MFLUW|PaymentMethod|Credit card (auto...|\n",
      "|4183-MYFRB|PaymentMethod|    Electronic check|\n",
      "+----------+-------------+--------------------+\n",
      "only showing top 20 rows\n",
      "\n"
     ]
    }
   ],
   "source": [
    "account_features = read_df(input_files[\"account_features\"])\n",
    "account_features.printSchema()\n",
    "account_features.show()"
   ]
  },
  {
   "cell_type": "code",
   "execution_count": 17,
   "metadata": {},
   "outputs": [],
   "source": [
    "contracts = untidy_feature(account_features, \"Contract\")\n",
    "\n",
    "paperless = untidy_feature(account_features, \"PaperlessBilling\")\n",
    "\n",
    "payment = untidy_feature(account_features, \"PaymentMethod\")\n",
    "\n",
    "customer_account_features = chained_join(\n",
    "    \"customerID\", \n",
    "    customers,\n",
    "    [contracts, paperless, payment]\n",
    ")\n",
    "\n",
    "customer_account_features = customer_account_features.select(\n",
    "    \"customerID\",\n",
    "    \"Contract\",\n",
    "    resolve_nullable_column(customer_account_features, \"PaperlessBilling\"),\n",
    "    \"PaymentMethod\"\n",
    ")"
   ]
  },
  {
   "cell_type": "markdown",
   "metadata": {},
   "source": [
    "# Account metadata"
   ]
  },
  {
   "cell_type": "code",
   "execution_count": 18,
   "metadata": {},
   "outputs": [
    {
     "name": "stdout",
     "output_type": "stream",
     "text": [
      "root\n",
      " |-- customerID: string (nullable = true)\n",
      " |-- dateOfBirth: string (nullable = true)\n",
      " |-- gender: string (nullable = true)\n",
      " |-- SeniorCitizen: string (nullable = true)\n",
      " |-- Partner: string (nullable = true)\n",
      " |-- Dependents: string (nullable = true)\n",
      " |-- MonthlyCharges: string (nullable = true)\n",
      " |-- now: string (nullable = true)\n",
      "\n"
     ]
    }
   ],
   "source": [
    "account_meta = read_df(input_files[\"meta\"])\n",
    "\n",
    "account_meta.printSchema()"
   ]
  },
  {
   "cell_type": "code",
   "execution_count": 19,
   "metadata": {},
   "outputs": [
    {
     "name": "stdout",
     "output_type": "stream",
     "text": [
      "+----------+-------------+-------+----------+------+--------------+\n",
      "|customerID|SeniorCitizen|Partner|Dependents|gender|MonthlyCharges|\n",
      "+----------+-------------+-------+----------+------+--------------+\n",
      "|5774-QPLTF|           No|    Yes|       Yes|  Male|         20.35|\n",
      "|5774-XZTQC|           No|    Yes|       Yes|Female|         20.45|\n",
      "|5777-KJIRB|           No|     No|        No|Female|         50.25|\n",
      "|5777-ZPQNC|           No|     No|        No|Female|         20.15|\n",
      "|5778-BVOFB|           No|     No|        No|Female|          59.5|\n",
      "|5780-INQIK|           No|     No|        No|Female|          49.4|\n",
      "|5781-BKHOP|           No|    Yes|        No|Female|        100.65|\n",
      "|5781-RFZRP|           No|    Yes|        No|  Male|          73.5|\n",
      "|5787-KXGIY|           No|    Yes|        No|  Male|          19.3|\n",
      "|5788-YPOEG|           No|    Yes|       Yes|Female|         84.75|\n",
      "|5789-LDFXO|           No|     No|        No|  Male|          24.6|\n",
      "|5791-KAJFD|           No|    Yes|       Yes|Female|         68.75|\n",
      "|5792-JALQC|          Yes|     No|        No|Female|         59.85|\n",
      "|5793-YOLJN|           No|    Yes|       Yes|Female|          21.0|\n",
      "|5795-BKOYE|           No|    Yes|       Yes|Female|          59.1|\n",
      "|5795-KTGUD|           No|    Yes|        No|Female|         110.8|\n",
      "|5797-APWZC|           No|     No|        No|Female|          90.6|\n",
      "|5799-JRCZO|           No|     No|       Yes|Female|          19.5|\n",
      "|5802-ADBRC|           No|    Yes|        No|Female|         104.4|\n",
      "|5803-NQJZO|           No|    Yes|        No|  Male|          67.8|\n",
      "+----------+-------------+-------+----------+------+--------------+\n",
      "only showing top 20 rows\n",
      "\n"
     ]
    }
   ],
   "source": [
    "account_meta.select(\n",
    "    \"customerID\",\n",
    "    F.when(\n",
    "        F.col(\"now\") >= F.add_months(F.col(\"dateOfBirth\"), 65 * 12), \n",
    "        \"Yes\"\n",
    "    ).otherwise(\"No\").alias(\"SeniorCitizen\"),\n",
    "    \"Partner\",\n",
    "    \"Dependents\",\n",
    "    \"gender\",\n",
    "    \"MonthlyCharges\"\n",
    ").show()"
   ]
  },
  {
   "cell_type": "markdown",
   "metadata": {},
   "source": [
    "# Putting it all together"
   ]
  },
  {
   "cell_type": "code",
   "execution_count": 20,
   "metadata": {},
   "outputs": [],
   "source": [
    "wide_data = chained_join(\n",
    "    \"customerID\",\n",
    "    customers,\n",
    "    [\n",
    "        customer_billing,\n",
    "        customer_phone_features,\n",
    "        customer_internet_features,\n",
    "        customer_account_features,\n",
    "        account_meta\n",
    "    ]\n",
    ").select(\n",
    "    \"customerID\", \n",
    "    \"gender\", \n",
    "    \"SeniorCitizen\", \n",
    "    \"Partner\", \n",
    "    \"Dependents\", \n",
    "    \"tenure\", \n",
    "    \"PhoneService\", \n",
    "    \"MultipleLines\", \n",
    "    \"InternetService\", \n",
    "    \"OnlineSecurity\", \n",
    "    \"OnlineBackup\", \n",
    "    \"DeviceProtection\", \n",
    "    \"TechSupport\", \n",
    "    \"StreamingTV\", \n",
    "    \"StreamingMovies\", \n",
    "    \"Contract\", \n",
    "    \"PaperlessBilling\", \n",
    "    \"PaymentMethod\", \n",
    "    \"MonthlyCharges\", \n",
    "    \"TotalCharges\", \n",
    "    \"Churn\"\n",
    ")"
   ]
  },
  {
   "cell_type": "code",
   "execution_count": 21,
   "metadata": {
    "scrolled": false
   },
   "outputs": [
    {
     "name": "stdout",
     "output_type": "stream",
     "text": [
      "== Physical Plan ==\n",
      "*(34) Project [customerID#16, gender#334, SeniorCitizen#335, Partner#336, Dependents#337, tenure#65L, PhoneService#138, MultipleLines#142, InternetService#240, OnlineSecurity#241, OnlineBackup#242, DeviceProtection#243, TechSupport#244, StreamingTV#245, StreamingMovies#246, Contract#293, PaperlessBilling#311, PaymentMethod#299, MonthlyCharges#338, TotalCharges#66, Churn#50]\n",
      "+- *(34) BroadcastHashJoin [customerID#16], [customerID#332], LeftOuter, BuildRight\n",
      "   :- *(34) Project [customerID#16, Churn#50, tenure#65L, TotalCharges#66, PhoneService#138, MultipleLines#142, InternetService#240, OnlineSecurity#241, OnlineBackup#242, DeviceProtection#243, TechSupport#244, StreamingTV#245, StreamingMovies#246, Contract#293, PaperlessBilling#311, PaymentMethod#299]\n",
      "   :  +- SortMergeJoin [customerID#16], [customerID#422], LeftOuter\n",
      "   :     :- *(27) Project [customerID#16, Churn#50, tenure#65L, TotalCharges#66, PhoneService#138, MultipleLines#142, InternetService#240, OnlineSecurity#241, OnlineBackup#242, DeviceProtection#243, TechSupport#244, StreamingTV#245, StreamingMovies#246]\n",
      "   :     :  +- SortMergeJoin [customerID#16], [customerID#405], LeftOuter\n",
      "   :     :     :- *(17) Project [customerID#16, Churn#50, tenure#65L, TotalCharges#66, PhoneService#138, MultipleLines#142]\n",
      "   :     :     :  +- SortMergeJoin [customerID#16], [customerID#395], LeftOuter\n",
      "   :     :     :     :- *(12) Project [customerID#16, Churn#50, tenure#65L, TotalCharges#66]\n",
      "   :     :     :     :  +- SortMergeJoin [customerID#16], [customerID#387], LeftOuter\n",
      "   :     :     :     :     :- *(2) Sort [customerID#16 ASC NULLS FIRST], false, 0\n",
      "   :     :     :     :     :  +- *(2) HashAggregate(keys=[customerID#16], functions=[])\n",
      "   :     :     :     :     :     +- Exchange hashpartitioning(customerID#16, 200), true, [id=#791]\n",
      "   :     :     :     :     :        +- *(1) HashAggregate(keys=[customerID#16], functions=[])\n",
      "   :     :     :     :     :           +- FileScan csv [customerID#16] Batched: false, DataFilters: [], Format: CSV, Location: InMemoryFileIndex[file:/Users/willb/devel/telco-churn-augmentation/billing_events.csv], PartitionFilters: [], PushedFilters: [], ReadSchema: struct<customerID:string>\n",
      "   :     :     :     :     +- *(11) Project [customerID#387, Churn#50, tenure#65L, TotalCharges#66]\n",
      "   :     :     :     :        +- *(11) SortMergeJoin [customerID#387], [customerID#70], Inner\n",
      "   :     :     :     :           :- *(5) Sort [customerID#387 ASC NULLS FIRST], false, 0\n",
      "   :     :     :     :           :  +- *(5) Project [customerID#387, CASE WHEN isnull(Churn#42) THEN No ELSE Yes END AS Churn#50]\n",
      "   :     :     :     :           :     +- *(5) BroadcastHashJoin [customerID#387], [Churn#42], LeftOuter, BuildRight\n",
      "   :     :     :     :           :        :- *(5) HashAggregate(keys=[customerID#387], functions=[])\n",
      "   :     :     :     :           :        :  +- Exchange hashpartitioning(customerID#387, 200), true, [id=#801]\n",
      "   :     :     :     :           :        :     +- *(3) HashAggregate(keys=[customerID#387], functions=[])\n",
      "   :     :     :     :           :        :        +- *(3) Project [customerID#387]\n",
      "   :     :     :     :           :        :           +- *(3) Filter isnotnull(customerID#387)\n",
      "   :     :     :     :           :        :              +- FileScan csv [customerID#387] Batched: false, DataFilters: [isnotnull(customerID#387)], Format: CSV, Location: InMemoryFileIndex[file:/Users/willb/devel/telco-churn-augmentation/billing_events.csv], PartitionFilters: [], PushedFilters: [IsNotNull(customerID)], ReadSchema: struct<customerID:string>\n",
      "   :     :     :     :           :        +- BroadcastExchange HashedRelationBroadcastMode(List(input[0, string, true])), [id=#808]\n",
      "   :     :     :     :           :           +- *(4) Project [customerID#387 AS Churn#42]\n",
      "   :     :     :     :           :              +- *(4) Filter ((isnotnull(kind#388) AND (kind#388 = AccountTermination)) AND isnotnull(customerID#387))\n",
      "   :     :     :     :           :                 +- FileScan csv [customerID#387,kind#388] Batched: false, DataFilters: [isnotnull(kind#388), (kind#388 = AccountTermination), isnotnull(customerID#387)], Format: CSV, Location: InMemoryFileIndex[file:/Users/willb/devel/telco-churn-augmentation/billing_events.csv], PartitionFilters: [], PushedFilters: [IsNotNull(kind), EqualTo(kind,AccountTermination), IsNotNull(customerID)], ReadSchema: struct<customerID:string,kind:string>\n",
      "   :     :     :     :           +- *(10) Sort [customerID#70 ASC NULLS FIRST], false, 0\n",
      "   :     :     :     :              +- Exchange hashpartitioning(customerID#70, 200), true, [id=#1038]\n",
      "   :     :     :     :                 +- *(9) Project [customerID#70, event_counts#34L AS tenure#65L, total_charges#36 AS TotalCharges#66]\n",
      "   :     :     :     :                    +- *(9) BroadcastHashJoin [customerID#70], [customerID#55], Inner, BuildLeft\n",
      "   :     :     :     :                       :- BroadcastExchange HashedRelationBroadcastMode(List(input[0, string, true])), [id=#1028]\n",
      "   :     :     :     :                       :  +- *(7) HashAggregate(keys=[customerID#70], functions=[])\n",
      "   :     :     :     :                       :     +- ReusedExchange [customerID#70], Exchange hashpartitioning(customerID#387, 200), true, [id=#801]\n",
      "   :     :     :     :                       +- *(9) HashAggregate(keys=[customerID#55, kind#56], functions=[count(value#24), sum(cast(value#24 as double))])\n",
      "   :     :     :     :                          +- Exchange hashpartitioning(customerID#55, kind#56, 200), true, [id=#831]\n",
      "   :     :     :     :                             +- *(8) HashAggregate(keys=[customerID#55, kind#56], functions=[partial_count(value#24), partial_sum(cast(value#24 as double))])\n",
      "   :     :     :     :                                +- *(8) Project [customerID#55, kind#56, cast(value#57 as float) AS value#24]\n",
      "   :     :     :     :                                   +- *(8) Filter ((isnotnull(kind#56) AND (kind#56 = Charge)) AND isnotnull(customerID#55))\n",
      "   :     :     :     :                                      +- FileScan csv [customerID#55,kind#56,value#57] Batched: false, DataFilters: [isnotnull(kind#56), (kind#56 = Charge), isnotnull(customerID#55)], Format: CSV, Location: InMemoryFileIndex[file:/Users/willb/devel/telco-churn-augmentation/billing_events.csv], PartitionFilters: [], PushedFilters: [IsNotNull(kind), EqualTo(kind,Charge), IsNotNull(customerID)], ReadSchema: struct<customerID:string,kind:string,value:string>\n",
      "   :     :     :     +- *(16) Sort [customerID#395 ASC NULLS FIRST], false, 0\n",
      "   :     :     :        +- *(16) Project [customerID#395, CASE WHEN isnull(PhoneService#127) THEN No ELSE Yes END AS PhoneService#138, CASE WHEN (CASE WHEN isnull(PhoneService#127) THEN No ELSE Yes END = No) THEN No phone service ELSE CASE WHEN isnull(MultipleLines#130) THEN No ELSE Yes END END AS MultipleLines#142]\n",
      "   :     :     :           +- *(16) BroadcastHashJoin [customerID#395], [customerID#121], LeftOuter, BuildRight\n",
      "   :     :     :              :- *(16) Project [customerID#395, PhoneService#127]\n",
      "   :     :     :              :  +- *(16) BroadcastHashJoin [customerID#395], [customerID#121], LeftOuter, BuildRight\n",
      "   :     :     :              :     :- *(16) HashAggregate(keys=[customerID#395], functions=[])\n",
      "   :     :     :              :     :  +- ReusedExchange [customerID#395], Exchange hashpartitioning(customerID#387, 200), true, [id=#801]\n",
      "   :     :     :              :     +- BroadcastExchange HashedRelationBroadcastMode(List(input[0, string, true])), [id=#861]\n",
      "   :     :     :              :        +- *(14) Project [customerID#121, Yes AS PhoneService#127]\n",
      "   :     :     :              :           +- *(14) Filter ((isnotnull(feature#122) AND (feature#122 = PhoneService)) AND isnotnull(customerID#121))\n",
      "   :     :     :              :              +- FileScan csv [customerID#121,feature#122] Batched: false, DataFilters: [isnotnull(feature#122), (feature#122 = PhoneService), isnotnull(customerID#121)], Format: CSV, Location: InMemoryFileIndex[file:/Users/willb/devel/telco-churn-augmentation/customer_phone_features.csv], PartitionFilters: [], PushedFilters: [IsNotNull(feature), EqualTo(feature,PhoneService), IsNotNull(customerID)], ReadSchema: struct<customerID:string,feature:string>\n",
      "   :     :     :              +- BroadcastExchange HashedRelationBroadcastMode(List(input[0, string, true])), [id=#869]\n",
      "   :     :     :                 +- *(15) Project [customerID#121, Yes AS MultipleLines#130]\n",
      "   :     :     :                    +- *(15) Filter ((isnotnull(feature#122) AND (feature#122 = MultipleLines)) AND isnotnull(customerID#121))\n",
      "   :     :     :                       +- FileScan csv [customerID#121,feature#122] Batched: false, DataFilters: [isnotnull(feature#122), (feature#122 = MultipleLines), isnotnull(customerID#121)], Format: CSV, Location: InMemoryFileIndex[file:/Users/willb/devel/telco-churn-augmentation/customer_phone_features.csv], PartitionFilters: [], PushedFilters: [IsNotNull(feature), EqualTo(feature,MultipleLines), IsNotNull(customerID)], ReadSchema: struct<customerID:string,feature:string>\n",
      "   :     :     +- *(26) Sort [customerID#405 ASC NULLS FIRST], false, 0\n",
      "   :     :        +- *(26) Project [customerID#405, CASE WHEN isnull(InternetService#184) THEN No ELSE InternetService#184 END AS InternetService#240, CASE WHEN (InternetService#184 = No) THEN No internet service ELSE CASE WHEN isnull(OnlineSecurity#187) THEN No ELSE OnlineSecurity#187 END END AS OnlineSecurity#241, CASE WHEN (InternetService#184 = No) THEN No internet service ELSE CASE WHEN isnull(OnlineBackup#190) THEN No ELSE OnlineBackup#190 END END AS OnlineBackup#242, CASE WHEN (InternetService#184 = No) THEN No internet service ELSE CASE WHEN isnull(DeviceProtection#193) THEN No ELSE DeviceProtection#193 END END AS DeviceProtection#243, CASE WHEN (InternetService#184 = No) THEN No internet service ELSE CASE WHEN isnull(TechSupport#196) THEN No ELSE TechSupport#196 END END AS TechSupport#244, CASE WHEN (InternetService#184 = No) THEN No internet service ELSE CASE WHEN isnull(StreamingTV#199) THEN No ELSE StreamingTV#199 END END AS StreamingTV#245, CASE WHEN (InternetService#184 = No) THEN No internet service ELSE CASE WHEN isnull(StreamingMovies#202) THEN No ELSE StreamingMovies#202 END END AS StreamingMovies#246]\n",
      "   :     :           +- *(26) BroadcastHashJoin [customerID#405], [customerID#162], LeftOuter, BuildRight\n",
      "   :     :              :- *(26) Project [customerID#405, InternetService#184, OnlineSecurity#187, OnlineBackup#190, DeviceProtection#193, TechSupport#196, StreamingTV#199]\n",
      "   :     :              :  +- *(26) BroadcastHashJoin [customerID#405], [customerID#162], LeftOuter, BuildRight\n",
      "   :     :              :     :- *(26) Project [customerID#405, InternetService#184, OnlineSecurity#187, OnlineBackup#190, DeviceProtection#193, TechSupport#196]\n",
      "   :     :              :     :  +- *(26) BroadcastHashJoin [customerID#405], [customerID#162], LeftOuter, BuildRight\n",
      "   :     :              :     :     :- *(26) Project [customerID#405, InternetService#184, OnlineSecurity#187, OnlineBackup#190, DeviceProtection#193]\n",
      "   :     :              :     :     :  +- *(26) BroadcastHashJoin [customerID#405], [customerID#162], LeftOuter, BuildRight\n",
      "   :     :              :     :     :     :- *(26) Project [customerID#405, InternetService#184, OnlineSecurity#187, OnlineBackup#190]\n",
      "   :     :              :     :     :     :  +- *(26) BroadcastHashJoin [customerID#405], [customerID#162], LeftOuter, BuildRight\n",
      "   :     :              :     :     :     :     :- *(26) Project [customerID#405, InternetService#184, OnlineSecurity#187]\n",
      "   :     :              :     :     :     :     :  +- *(26) BroadcastHashJoin [customerID#405], [customerID#162], LeftOuter, BuildRight\n",
      "   :     :              :     :     :     :     :     :- *(26) Project [customerID#405, InternetService#184]\n",
      "   :     :              :     :     :     :     :     :  +- *(26) BroadcastHashJoin [customerID#405], [customerID#162], LeftOuter, BuildRight\n",
      "   :     :              :     :     :     :     :     :     :- *(26) HashAggregate(keys=[customerID#405], functions=[])\n",
      "   :     :              :     :     :     :     :     :     :  +- ReusedExchange [customerID#405], Exchange hashpartitioning(customerID#387, 200), true, [id=#801]\n",
      "   :     :              :     :     :     :     :     :     +- BroadcastExchange HashedRelationBroadcastMode(List(input[0, string, true])), [id=#891]\n",
      "   :     :              :     :     :     :     :     :        +- *(19) Project [customerID#162, value#164 AS InternetService#184]\n",
      "   :     :              :     :     :     :     :     :           +- *(19) Filter ((isnotnull(feature#163) AND (feature#163 = InternetService)) AND isnotnull(customerID#162))\n",
      "   :     :              :     :     :     :     :     :              +- FileScan csv [customerID#162,feature#163,value#164] Batched: false, DataFilters: [isnotnull(feature#163), (feature#163 = InternetService), isnotnull(customerID#162)], Format: CSV, Location: InMemoryFileIndex[file:/Users/willb/devel/telco-churn-augmentation/customer_internet_features.csv], PartitionFilters: [], PushedFilters: [IsNotNull(feature), EqualTo(feature,InternetService), IsNotNull(customerID)], ReadSchema: struct<customerID:string,feature:string,value:string>\n",
      "   :     :              :     :     :     :     :     +- BroadcastExchange HashedRelationBroadcastMode(List(input[0, string, true])), [id=#899]\n",
      "   :     :              :     :     :     :     :        +- *(20) Project [customerID#162, value#164 AS OnlineSecurity#187]\n",
      "   :     :              :     :     :     :     :           +- *(20) Filter ((isnotnull(feature#163) AND (feature#163 = OnlineSecurity)) AND isnotnull(customerID#162))\n",
      "   :     :              :     :     :     :     :              +- FileScan csv [customerID#162,feature#163,value#164] Batched: false, DataFilters: [isnotnull(feature#163), (feature#163 = OnlineSecurity), isnotnull(customerID#162)], Format: CSV, Location: InMemoryFileIndex[file:/Users/willb/devel/telco-churn-augmentation/customer_internet_features.csv], PartitionFilters: [], PushedFilters: [IsNotNull(feature), EqualTo(feature,OnlineSecurity), IsNotNull(customerID)], ReadSchema: struct<customerID:string,feature:string,value:string>\n",
      "   :     :              :     :     :     :     +- BroadcastExchange HashedRelationBroadcastMode(List(input[0, string, true])), [id=#907]\n",
      "   :     :              :     :     :     :        +- *(21) Project [customerID#162, value#164 AS OnlineBackup#190]\n",
      "   :     :              :     :     :     :           +- *(21) Filter ((isnotnull(feature#163) AND (feature#163 = OnlineBackup)) AND isnotnull(customerID#162))\n",
      "   :     :              :     :     :     :              +- FileScan csv [customerID#162,feature#163,value#164] Batched: false, DataFilters: [isnotnull(feature#163), (feature#163 = OnlineBackup), isnotnull(customerID#162)], Format: CSV, Location: InMemoryFileIndex[file:/Users/willb/devel/telco-churn-augmentation/customer_internet_features.csv], PartitionFilters: [], PushedFilters: [IsNotNull(feature), EqualTo(feature,OnlineBackup), IsNotNull(customerID)], ReadSchema: struct<customerID:string,feature:string,value:string>\n",
      "   :     :              :     :     :     +- BroadcastExchange HashedRelationBroadcastMode(List(input[0, string, true])), [id=#915]\n",
      "   :     :              :     :     :        +- *(22) Project [customerID#162, value#164 AS DeviceProtection#193]\n",
      "   :     :              :     :     :           +- *(22) Filter ((isnotnull(feature#163) AND (feature#163 = DeviceProtection)) AND isnotnull(customerID#162))\n",
      "   :     :              :     :     :              +- FileScan csv [customerID#162,feature#163,value#164] Batched: false, DataFilters: [isnotnull(feature#163), (feature#163 = DeviceProtection), isnotnull(customerID#162)], Format: CSV, Location: InMemoryFileIndex[file:/Users/willb/devel/telco-churn-augmentation/customer_internet_features.csv], PartitionFilters: [], PushedFilters: [IsNotNull(feature), EqualTo(feature,DeviceProtection), IsNotNull(customerID)], ReadSchema: struct<customerID:string,feature:string,value:string>\n",
      "   :     :              :     :     +- BroadcastExchange HashedRelationBroadcastMode(List(input[0, string, true])), [id=#923]\n",
      "   :     :              :     :        +- *(23) Project [customerID#162, value#164 AS TechSupport#196]\n",
      "   :     :              :     :           +- *(23) Filter ((isnotnull(feature#163) AND (feature#163 = TechSupport)) AND isnotnull(customerID#162))\n",
      "   :     :              :     :              +- FileScan csv [customerID#162,feature#163,value#164] Batched: false, DataFilters: [isnotnull(feature#163), (feature#163 = TechSupport), isnotnull(customerID#162)], Format: CSV, Location: InMemoryFileIndex[file:/Users/willb/devel/telco-churn-augmentation/customer_internet_features.csv], PartitionFilters: [], PushedFilters: [IsNotNull(feature), EqualTo(feature,TechSupport), IsNotNull(customerID)], ReadSchema: struct<customerID:string,feature:string,value:string>\n",
      "   :     :              :     +- BroadcastExchange HashedRelationBroadcastMode(List(input[0, string, true])), [id=#931]\n",
      "   :     :              :        +- *(24) Project [customerID#162, value#164 AS StreamingTV#199]\n",
      "   :     :              :           +- *(24) Filter ((isnotnull(feature#163) AND (feature#163 = StreamingTV)) AND isnotnull(customerID#162))\n",
      "   :     :              :              +- FileScan csv [customerID#162,feature#163,value#164] Batched: false, DataFilters: [isnotnull(feature#163), (feature#163 = StreamingTV), isnotnull(customerID#162)], Format: CSV, Location: InMemoryFileIndex[file:/Users/willb/devel/telco-churn-augmentation/customer_internet_features.csv], PartitionFilters: [], PushedFilters: [IsNotNull(feature), EqualTo(feature,StreamingTV), IsNotNull(customerID)], ReadSchema: struct<customerID:string,feature:string,value:string>\n",
      "   :     :              +- BroadcastExchange HashedRelationBroadcastMode(List(input[0, string, true])), [id=#939]\n",
      "   :     :                 +- *(25) Project [customerID#162, value#164 AS StreamingMovies#202]\n",
      "   :     :                    +- *(25) Filter ((isnotnull(feature#163) AND (feature#163 = StreamingMovies)) AND isnotnull(customerID#162))\n",
      "   :     :                       +- FileScan csv [customerID#162,feature#163,value#164] Batched: false, DataFilters: [isnotnull(feature#163), (feature#163 = StreamingMovies), isnotnull(customerID#162)], Format: CSV, Location: InMemoryFileIndex[file:/Users/willb/devel/telco-churn-augmentation/customer_internet_features.csv], PartitionFilters: [], PushedFilters: [IsNotNull(feature), EqualTo(feature,StreamingMovies), IsNotNull(customerID)], ReadSchema: struct<customerID:string,feature:string,value:string>\n",
      "   :     +- *(32) Sort [customerID#422 ASC NULLS FIRST], false, 0\n",
      "   :        +- *(32) Project [customerID#422, Contract#293, CASE WHEN isnull(PaperlessBilling#296) THEN No ELSE PaperlessBilling#296 END AS PaperlessBilling#311, PaymentMethod#299]\n",
      "   :           +- *(32) BroadcastHashJoin [customerID#422], [customerID#271], LeftOuter, BuildRight\n",
      "   :              :- *(32) Project [customerID#422, Contract#293, PaperlessBilling#296]\n",
      "   :              :  +- *(32) BroadcastHashJoin [customerID#422], [customerID#271], LeftOuter, BuildRight\n",
      "   :              :     :- *(32) Project [customerID#422, Contract#293]\n",
      "   :              :     :  +- *(32) BroadcastHashJoin [customerID#422], [customerID#271], LeftOuter, BuildRight\n",
      "   :              :     :     :- *(32) HashAggregate(keys=[customerID#422], functions=[])\n",
      "   :              :     :     :  +- ReusedExchange [customerID#422], Exchange hashpartitioning(customerID#387, 200), true, [id=#801]\n",
      "   :              :     :     +- BroadcastExchange HashedRelationBroadcastMode(List(input[0, string, true])), [id=#961]\n",
      "   :              :     :        +- *(29) Project [customerID#271, value#273 AS Contract#293]\n",
      "   :              :     :           +- *(29) Filter ((isnotnull(feature#272) AND (feature#272 = Contract)) AND isnotnull(customerID#271))\n",
      "   :              :     :              +- FileScan csv [customerID#271,feature#272,value#273] Batched: false, DataFilters: [isnotnull(feature#272), (feature#272 = Contract), isnotnull(customerID#271)], Format: CSV, Location: InMemoryFileIndex[file:/Users/willb/devel/telco-churn-augmentation/customer_account_features.csv], PartitionFilters: [], PushedFilters: [IsNotNull(feature), EqualTo(feature,Contract), IsNotNull(customerID)], ReadSchema: struct<customerID:string,feature:string,value:string>\n",
      "   :              :     +- BroadcastExchange HashedRelationBroadcastMode(List(input[0, string, true])), [id=#969]\n",
      "   :              :        +- *(30) Project [customerID#271, value#273 AS PaperlessBilling#296]\n",
      "   :              :           +- *(30) Filter ((isnotnull(feature#272) AND (feature#272 = PaperlessBilling)) AND isnotnull(customerID#271))\n",
      "   :              :              +- FileScan csv [customerID#271,feature#272,value#273] Batched: false, DataFilters: [isnotnull(feature#272), (feature#272 = PaperlessBilling), isnotnull(customerID#271)], Format: CSV, Location: InMemoryFileIndex[file:/Users/willb/devel/telco-churn-augmentation/customer_account_features.csv], PartitionFilters: [], PushedFilters: [IsNotNull(feature), EqualTo(feature,PaperlessBilling), IsNotNull(customerID)], ReadSchema: struct<customerID:string,feature:string,value:string>\n",
      "   :              +- BroadcastExchange HashedRelationBroadcastMode(List(input[0, string, true])), [id=#977]\n",
      "   :                 +- *(31) Project [customerID#271, value#273 AS PaymentMethod#299]\n",
      "   :                    +- *(31) Filter ((isnotnull(feature#272) AND (feature#272 = PaymentMethod)) AND isnotnull(customerID#271))\n",
      "   :                       +- FileScan csv [customerID#271,feature#272,value#273] Batched: false, DataFilters: [isnotnull(feature#272), (feature#272 = PaymentMethod), isnotnull(customerID#271)], Format: CSV, Location: InMemoryFileIndex[file:/Users/willb/devel/telco-churn-augmentation/customer_account_features.csv], PartitionFilters: [], PushedFilters: [IsNotNull(feature), EqualTo(feature,PaymentMethod), IsNotNull(customerID)], ReadSchema: struct<customerID:string,feature:string,value:string>\n",
      "   +- BroadcastExchange HashedRelationBroadcastMode(List(input[0, string, true])), [id=#990]\n",
      "      +- *(33) Project [customerID#332, gender#334, SeniorCitizen#335, Partner#336, Dependents#337, MonthlyCharges#338]\n",
      "         +- *(33) Filter isnotnull(customerID#332)\n",
      "            +- FileScan csv [customerID#332,gender#334,SeniorCitizen#335,Partner#336,Dependents#337,MonthlyCharges#338] Batched: false, DataFilters: [isnotnull(customerID#332)], Format: CSV, Location: InMemoryFileIndex[file:/Users/willb/devel/telco-churn-augmentation/customer_meta.csv], PartitionFilters: [], PushedFilters: [IsNotNull(customerID)], ReadSchema: struct<customerID:string,gender:string,SeniorCitizen:string,Partner:string,Dependents:string,Mont...\n",
      "\n",
      "\n"
     ]
    }
   ],
   "source": [
    "wide_data.explain()"
   ]
  },
  {
   "cell_type": "code",
   "execution_count": 22,
   "metadata": {},
   "outputs": [],
   "source": [
    "def write_df(df, name):\n",
    "    name = \"%s.%s\" % (name, output_kind)\n",
    "    if output_prefix != \"\":\n",
    "        name = \"%s-%s\" % (output_prefix, name)\n",
    "    kwargs = {}\n",
    "    if output_kind == \"csv\":\n",
    "        kwargs['header'] = True\n",
    "    getattr(df.write.mode(output_mode), output_kind)(name, **kwargs)"
   ]
  },
  {
   "cell_type": "code",
   "execution_count": 23,
   "metadata": {},
   "outputs": [],
   "source": [
    "write_df(wide_data, output_file)"
   ]
  },
  {
   "cell_type": "code",
   "execution_count": 24,
   "metadata": {},
   "outputs": [],
   "source": [
    "session.stop()"
   ]
  },
  {
   "cell_type": "code",
   "execution_count": null,
   "metadata": {},
   "outputs": [],
   "source": []
  }
 ],
 "metadata": {
  "celltoolbar": "Tags",
  "kernelspec": {
   "display_name": "Python 3",
   "language": "python",
   "name": "python3"
  },
  "language_info": {
   "codemirror_mode": {
    "name": "ipython",
    "version": 3
   },
   "file_extension": ".py",
   "mimetype": "text/x-python",
   "name": "python",
   "nbconvert_exporter": "python",
   "pygments_lexer": "ipython3",
   "version": "3.8.5"
  }
 },
 "nbformat": 4,
 "nbformat_minor": 4
}
