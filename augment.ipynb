{
 "cells": [
  {
   "cell_type": "code",
   "execution_count": 1,
   "metadata": {
    "tags": [
     "parameters"
    ]
   },
   "outputs": [],
   "source": [
    "# notebook parameters\n",
    "\n",
    "import os\n",
    "\n",
    "spark_master = \"local[*]\"\n",
    "app_name = \"augment\"\n",
    "input_file = os.path.join(\"data\", \"WA_Fn-UseC_-Telco-Customer-Churn-.csv\")\n",
    "output_prefix = \"\"\n",
    "output_mode = \"overwrite\"\n",
    "output_kind = \"csv\"\n"
   ]
  },
  {
   "cell_type": "markdown",
   "metadata": {},
   "source": [
    "# Sanity-checking\n",
    "\n",
    "We're going to make sure we're running with a compatible JVM first — if we run on macOS, we might get one that doesn't work with Scala."
   ]
  },
  {
   "cell_type": "code",
   "execution_count": 2,
   "metadata": {},
   "outputs": [],
   "source": [
    "from os import getenv"
   ]
  },
  {
   "cell_type": "code",
   "execution_count": 3,
   "metadata": {},
   "outputs": [],
   "source": [
    "getenv(\"JAVA_HOME\")"
   ]
  },
  {
   "cell_type": "markdown",
   "metadata": {},
   "source": [
    "# Spark setup"
   ]
  },
  {
   "cell_type": "code",
   "execution_count": 4,
   "metadata": {},
   "outputs": [],
   "source": [
    "import pyspark"
   ]
  },
  {
   "cell_type": "code",
   "execution_count": 5,
   "metadata": {},
   "outputs": [
    {
     "data": {
      "text/html": [
       "\n",
       "            <div>\n",
       "                <p><b>SparkSession - in-memory</b></p>\n",
       "                \n",
       "        <div>\n",
       "            <p><b>SparkContext</b></p>\n",
       "\n",
       "            <p><a href=\"http://192.168.7.63:4041\">Spark UI</a></p>\n",
       "\n",
       "            <dl>\n",
       "              <dt>Version</dt>\n",
       "                <dd><code>v3.0.1</code></dd>\n",
       "              <dt>Master</dt>\n",
       "                <dd><code>local[*]</code></dd>\n",
       "              <dt>AppName</dt>\n",
       "                <dd><code>augment</code></dd>\n",
       "            </dl>\n",
       "        </div>\n",
       "        \n",
       "            </div>\n",
       "        "
      ],
      "text/plain": [
       "<pyspark.sql.session.SparkSession at 0x10a911d30>"
      ]
     },
     "execution_count": 5,
     "metadata": {},
     "output_type": "execute_result"
    }
   ],
   "source": [
    "session = pyspark.sql.SparkSession.builder \\\n",
    "    .master(spark_master) \\\n",
    "    .appName(app_name) \\\n",
    "    .getOrCreate()\n",
    "session"
   ]
  },
  {
   "cell_type": "markdown",
   "metadata": {},
   "source": [
    "# Schema definition\n",
    "\n",
    "Most of the fields are strings representing booleans or categoricals, but a few (`tenure`, `MonthlyCharges`, and `TotalCharges`) are numeric."
   ]
  },
  {
   "cell_type": "code",
   "execution_count": 6,
   "metadata": {},
   "outputs": [],
   "source": [
    "from pyspark.sql.types import StructType, StructField, StringType, DoubleType\n",
    "\n",
    "fields = [\"customerID\", \"gender\", \"SeniorCitizen\", \"Partner\", \"Dependents\", \"tenure\", \"PhoneService\", \"MultipleLines\", \"InternetService\", \"OnlineSecurity\", \"OnlineBackup\", \"DeviceProtection\", \"TechSupport\", \"StreamingTV\", \"StreamingMovies\", \"Contract\", \"PaperlessBilling\", \"PaymentMethod\", \"MonthlyCharges\", \"TotalCharges\", \"Churn\"]\n",
    "double_fields = set([\"tenure\", \"MonthlyCharges\", \"TotalCharges\"])\n",
    "\n",
    "schema = pyspark.sql.types.StructType(\n",
    "    [ pyspark.sql.types.StructField(f, DoubleType() if f in double_fields else StringType()) for f in fields ]\n",
    ")"
   ]
  },
  {
   "cell_type": "code",
   "execution_count": 7,
   "metadata": {},
   "outputs": [],
   "source": [
    "original_df = session.read.csv(input_file, header=True, schema=schema)\n",
    "df = original_df"
   ]
  },
  {
   "cell_type": "markdown",
   "metadata": {},
   "source": [
    "# Categorical and boolean features"
   ]
  },
  {
   "cell_type": "code",
   "execution_count": 8,
   "metadata": {},
   "outputs": [
    {
     "name": "stdout",
     "output_type": "stream",
     "text": [
      "SeniorCitizen ['0', '1']\n",
      "Partner ['No', 'Yes']\n",
      "Dependents ['No', 'Yes']\n",
      "PhoneService ['No', 'Yes']\n",
      "MultipleLines ['No phone service', 'No', 'Yes']\n",
      "InternetService ['Fiber optic', 'No', 'DSL']\n",
      "OnlineSecurity ['No', 'Yes', 'No internet service']\n",
      "OnlineBackup ['No', 'Yes', 'No internet service']\n",
      "DeviceProtection ['No', 'Yes', 'No internet service']\n",
      "TechSupport ['No', 'Yes', 'No internet service']\n",
      "StreamingTV ['No', 'Yes', 'No internet service']\n",
      "StreamingMovies ['No', 'Yes', 'No internet service']\n",
      "Contract ['Month-to-month', 'One year', 'Two year']\n",
      "PaperlessBilling ['No', 'Yes']\n",
      "PaymentMethod ['Credit card (automatic)', 'Mailed check', 'Bank transfer (automatic)', 'Electronic check']\n"
     ]
    }
   ],
   "source": [
    "columns = [\"SeniorCitizen\", \n",
    "           \"Partner\", \n",
    "           \"Dependents\", \n",
    "           \"PhoneService\", \n",
    "           \"MultipleLines\", \n",
    "           \"InternetService\", \n",
    "           \"OnlineSecurity\", \n",
    "           \"OnlineBackup\", \n",
    "           \"DeviceProtection\", \n",
    "           \"TechSupport\", \n",
    "           \"StreamingTV\", \n",
    "           \"StreamingMovies\",\n",
    "           \"Contract\",\n",
    "           \"PaperlessBilling\",\n",
    "           \"PaymentMethod\"]\n",
    "\n",
    "for c in columns:\n",
    "    print(c, [row[0] for row in original_df.select(c).distinct().rdd.collect()])"
   ]
  },
  {
   "cell_type": "markdown",
   "metadata": {},
   "source": [
    "# Splitting the data frame\n",
    "\n",
    "The training data schema looks like this:\n",
    "\n",
    "- customerID\n",
    "- gender\n",
    "- SeniorCitizen\n",
    "- Partner\n",
    "- Dependents\n",
    "- tenure\n",
    "- PhoneService\n",
    "- MultipleLines\n",
    "- InternetService\n",
    "- OnlineSecurity\n",
    "- OnlineBackup\n",
    "- DeviceProtection\n",
    "- TechSupport\n",
    "- StreamingTV\n",
    "- StreamingMovies\n",
    "- Contract\n",
    "- PaperlessBilling\n",
    "- PaymentMethod\n",
    "- MonthlyCharges\n",
    "- TotalCharges\n",
    "- Churn\n",
    "\n",
    "We want to divide the data frame into several frames that we can join together in an ETL job.\n",
    "\n",
    "Those frames will look like this:\n",
    "\n",
    "- **Customer metadata**\n",
    "  - customerID\n",
    "  - gender\n",
    "  - date of birth (we'll derive age and senior citizen status from this)\n",
    "  - Partner\n",
    "  - Dependents\n",
    "  - (nominal) MonthlyCharges\n",
    "- **Billing events**\n",
    "  - customerID\n",
    "  - date (we'll derive tenure from the number/duration of billing events)\n",
    "  - kind (one of \"AccountCreation\", \"Charge\", or \"AccountTermination\")\n",
    "  - value (either a positive nonzero amount or 0.00; we'll derive TotalCharges from the sum of amounts and Churn from the existence of an AccountTermination event)\n",
    "- **Customer phone features**\n",
    "  - customerID\n",
    "  - feature (one of \"PhoneService\" or \"MultipleLines\")\n",
    "- **Customer internet features**\n",
    "  - customerID\n",
    "  - feature (one of \"InternetService\", \"OnlineSecurity\", \"OnlineBackup\", \"DeviceProtection\", \"TechSupport\", \"StreamingTV\", \"StreamingMovies\")\n",
    "  - value (one of \"Fiber\", \"DSL\", \"Yes\", \"No\")\n",
    "- **Customer account features**\n",
    "  - customerID\n",
    "  - feature (one of \"Contract\", \"PaperlessBilling\", \"PaymentMethod\")\n",
    "  - value (one of \"Month-to-month\", \"One year\", \"Two year\", \"No\", \"Yes\", \"Credit card (automatic)\", \"Mailed check\", \"Bank transfer (automatic)\", \"Electronic check\")"
   ]
  },
  {
   "cell_type": "code",
   "execution_count": 9,
   "metadata": {},
   "outputs": [
    {
     "name": "stdout",
     "output_type": "stream",
     "text": [
      "root\n",
      " |-- customerID: string (nullable = true)\n",
      " |-- gender: string (nullable = true)\n",
      " |-- SeniorCitizen: string (nullable = true)\n",
      " |-- Partner: string (nullable = true)\n",
      " |-- Dependents: string (nullable = true)\n",
      " |-- tenure: double (nullable = true)\n",
      " |-- PhoneService: string (nullable = true)\n",
      " |-- MultipleLines: string (nullable = true)\n",
      " |-- InternetService: string (nullable = true)\n",
      " |-- OnlineSecurity: string (nullable = true)\n",
      " |-- OnlineBackup: string (nullable = true)\n",
      " |-- DeviceProtection: string (nullable = true)\n",
      " |-- TechSupport: string (nullable = true)\n",
      " |-- StreamingTV: string (nullable = true)\n",
      " |-- StreamingMovies: string (nullable = true)\n",
      " |-- Contract: string (nullable = true)\n",
      " |-- PaperlessBilling: string (nullable = true)\n",
      " |-- PaymentMethod: string (nullable = true)\n",
      " |-- MonthlyCharges: double (nullable = true)\n",
      " |-- TotalCharges: double (nullable = true)\n",
      " |-- Churn: string (nullable = true)\n",
      "\n"
     ]
    }
   ],
   "source": [
    "original_df.printSchema()"
   ]
  },
  {
   "cell_type": "markdown",
   "metadata": {},
   "source": [
    "We'll start by generating a series of monthly charges (in the `charges` data frame), then a series of account creation events (`serviceStarts`) and churn events (`serviceTerminations`)."
   ]
  },
  {
   "cell_type": "code",
   "execution_count": 10,
   "metadata": {},
   "outputs": [],
   "source": [
    "import pyspark.sql.functions as F\n",
    "import datetime\n",
    "\n",
    "now = datetime.datetime.now(datetime.timezone.utc)\n",
    "\n",
    "w = pyspark.sql.Window.orderBy(F.lit('')).partitionBy(df.customerID)\n",
    "\n",
    "charges = df.select(\n",
    "    df.customerID, \n",
    "    F.lit(\"Charge\").alias(\"kind\"),\n",
    "    F.explode(F.array_repeat(df.TotalCharges / df.tenure, df.tenure.cast(\"int\"))).alias(\"value\")\n",
    ").withColumn(\"now\", F.lit(now)\n",
    ").withColumn(\"month_number\", -F.row_number().over(w)\n",
    ").withColumn(\"date\", F.expr(\"add_months(now, month_number)\")).drop(\n",
    "    \"now\", \"month_number\"\n",
    ")\n",
    "\n",
    "serviceStarts = df.select(\n",
    "    df.customerID,\n",
    "    F.lit(\"AccountCreation\").alias(\"kind\"),\n",
    "    F.lit(0.0).alias(\"value\"),\n",
    "    F.lit(now).alias(\"now\"),\n",
    "    (-df.tenure - 1).alias(\"month_number\")\n",
    ").withColumn(\"date\", F.expr(\"add_months(now, month_number)\")).drop(\n",
    "    \"now\", \"month_number\"\n",
    ")\n",
    "\n",
    "serviceTerminations = df.where(df.Churn == \"Yes\").select(\n",
    "    df.customerID,\n",
    "    F.lit(\"AccountTermination\").alias(\"kind\"),\n",
    "    F.lit(0.0).alias(\"value\"),\n",
    "    F.add_months(F.lit(now), 0).alias(\"date\")\n",
    ")\n",
    "\n"
   ]
  },
  {
   "cell_type": "markdown",
   "metadata": {},
   "source": [
    "`billingEvents` is the data frame containing all of these events:  account activation, account termination, and individual payment events."
   ]
  },
  {
   "cell_type": "code",
   "execution_count": 11,
   "metadata": {},
   "outputs": [],
   "source": [
    "billingEvents = charges.union(serviceStarts).union(serviceTerminations).orderBy(\"date\")\n"
   ]
  },
  {
   "cell_type": "markdown",
   "metadata": {},
   "source": [
    "We'll define a little helper function to use the parameters we defined earlier while writing data frames to Parquet."
   ]
  },
  {
   "cell_type": "code",
   "execution_count": 12,
   "metadata": {},
   "outputs": [],
   "source": [
    "def write_df(df, name):\n",
    "    name = \"%s.%s\" % (name, output_kind)\n",
    "    if output_prefix != \"\":\n",
    "        name = \"%s-%s\" % (output_prefix, name)\n",
    "    kwargs = {}\n",
    "    if output_kind == \"csv\":\n",
    "        kwargs['header'] = True\n",
    "    getattr(df.write.mode(output_mode), output_kind)(name, **kwargs)"
   ]
  },
  {
   "cell_type": "code",
   "execution_count": 13,
   "metadata": {},
   "outputs": [],
   "source": [
    "write_df(billingEvents, \"billing_events\")"
   ]
  },
  {
   "cell_type": "markdown",
   "metadata": {},
   "source": [
    "Our next step is to generate customer metadata, which includes the following fields:\n",
    "\n",
    "  - gender\n",
    "  - date of birth (we'll derive age and senior citizen status from this)\n",
    "  - Partner\n",
    "  - Dependents\n",
    "  \n",
    "We'll calculate date of birth by using the hash of the customer ID as a pseudorandom number and then assuming that ages are uniformly distributed between 18-65 and exponentially distributed over 65."
   ]
  },
  {
   "cell_type": "code",
   "execution_count": 14,
   "metadata": {},
   "outputs": [],
   "source": [
    "SENIOR_CUTOFF = 65\n",
    "ADULT_CUTOFF = 18\n",
    "DAYS_IN_YEAR = 365.25\n",
    "EXPONENTIAL_DIST_SCALE = 6.3\n",
    "\n",
    "customerMetaRaw = original_df.select(\n",
    "    \"customerID\",                \n",
    "    F.lit(now).alias(\"now\"),\n",
    "    (F.abs(F.hash(original_df.customerID)) % 4096 / 4096).alias(\"choice\"),\n",
    "    \"SeniorCitizen\",\n",
    "    \"gender\",\n",
    "    \"Partner\",\n",
    "    \"Dependents\",\n",
    "    \"MonthlyCharges\"\n",
    ")\n",
    "\n",
    "customerMetaRaw = customerMetaRaw.withColumn(\n",
    "    \"ageInDays\",\n",
    "    F.floor(\n",
    "        F.when(\n",
    "            customerMetaRaw.SeniorCitizen == 0, \n",
    "            (customerMetaRaw.choice * \n",
    "             ((SENIOR_CUTOFF - ADULT_CUTOFF - 1) * DAYS_IN_YEAR)) \n",
    "            + (ADULT_CUTOFF * DAYS_IN_YEAR)\n",
    "        ).otherwise(\n",
    "            (SENIOR_CUTOFF * DAYS_IN_YEAR) + \n",
    "            (DAYS_IN_YEAR * (-F.log1p(-customerMetaRaw.choice) * EXPONENTIAL_DIST_SCALE))\n",
    "        )\n",
    "    ).cast(\"int\")\n",
    ")\n",
    "\n",
    "customerMetaRaw = customerMetaRaw.withColumn(\n",
    "    \"dateOfBirth\",\n",
    "    F.expr(\"date_sub(now, ageInDays)\")\n",
    ")\n",
    "\n",
    "customerMeta = customerMetaRaw.select(\n",
    "    \"customerID\",\n",
    "    \"dateOfBirth\",\n",
    "    \"gender\",\n",
    "    \"SeniorCitizen\",\n",
    "    \"Partner\",\n",
    "    \"Dependents\",\n",
    "    \"MonthlyCharges\",\n",
    "    \"now\"\n",
    ").orderBy(\"customerID\")"
   ]
  },
  {
   "cell_type": "code",
   "execution_count": 15,
   "metadata": {},
   "outputs": [],
   "source": [
    "write_df(customerMeta, \"customer_meta\")\n"
   ]
  },
  {
   "cell_type": "markdown",
   "metadata": {},
   "source": [
    "Now we can generate customer phone features, which include:\n",
    "\n",
    "  - customerID\n",
    "  - feature (one of \"PhoneService\" or \"MultipleLines\")\n",
    "  - value (always \"Yes\"; there are no records for \"No\" or \"No Phone Service\")"
   ]
  },
  {
   "cell_type": "code",
   "execution_count": 16,
   "metadata": {},
   "outputs": [],
   "source": [
    "phoneService = original_df.select(\n",
    "    \"customerID\",\n",
    "    F.lit(\"PhoneService\").alias(\"feature\"),\n",
    "    F.lit(\"Yes\").alias(\"value\")\n",
    ").where(original_df.PhoneService == \"Yes\")\n",
    "\n",
    "multipleLines = original_df.select(\n",
    "    \"customerID\",\n",
    "    F.lit(\"MultipleLines\").alias(\"feature\"),\n",
    "    F.lit(\"Yes\").alias(\"value\")\n",
    ").where(original_df.MultipleLines == \"Yes\")\n",
    "\n",
    "customerPhoneFeatures = phoneService.union(multipleLines).orderBy(\"customerID\")\n"
   ]
  },
  {
   "cell_type": "code",
   "execution_count": 17,
   "metadata": {},
   "outputs": [],
   "source": [
    "write_df(customerPhoneFeatures, \"customer_phone_features\")\n"
   ]
  },
  {
   "cell_type": "markdown",
   "metadata": {},
   "source": [
    "Customer internet features include:\n",
    "  - customerID\n",
    "  - feature (one of \"InternetService\", \"OnlineSecurity\", \"OnlineBackup\", \"DeviceProtection\", \"TechSupport\", \"StreamingTV\", \"StreamingMovies\")\n",
    "  - value (one of \"Fiber\", \"DSL\", \"Yes\" -- no records for \"No\" or \"No internet service\")"
   ]
  },
  {
   "cell_type": "code",
   "execution_count": 18,
   "metadata": {},
   "outputs": [],
   "source": [
    "internet_service = original_df.select(\n",
    "    \"customerID\",\n",
    "    F.lit(\"InternetService\").alias(\"feature\"),\n",
    "    original_df.InternetService.alias(\"value\")\n",
    ").where(original_df.InternetService != \"No\")\n",
    "\n",
    "customerInternetFeatures = internet_service\n",
    "\n",
    "for feature in [\"InternetService\", \"OnlineSecurity\", \"OnlineBackup\", \"DeviceProtection\", \"TechSupport\", \"StreamingTV\", \"StreamingMovies\"]:\n",
    "    df = original_df.select(\n",
    "        \"customerID\",\n",
    "        F.lit(feature).alias(\"feature\"),\n",
    "        original_df[feature].alias(\"value\")\n",
    "    ).where(original_df[feature] == \"Yes\")\n",
    "    \n",
    "    customerInternetFeatures = customerInternetFeatures.union(df)\n",
    "\n",
    "write_df(customerInternetFeatures.orderBy(\"customerID\"), \"customer_internet_features\")\n"
   ]
  },
  {
   "cell_type": "markdown",
   "metadata": {},
   "source": [
    "Customer account features include:\n",
    "\n",
    "  - customerID\n",
    "  - feature (one of \"Contract\", \"PaperlessBilling\", \"PaymentMethod\")\n",
    "  - value (one of \"Month-to-month\", \"One year\", \"Two year\", \"Yes\", \"Credit card (automatic)\", \"Mailed check\", \"Bank transfer (automatic)\", \"Electronic check\")"
   ]
  },
  {
   "cell_type": "code",
   "execution_count": 19,
   "metadata": {},
   "outputs": [],
   "source": [
    "accountSchema = pyspark.sql.types.StructType(\n",
    "    [ pyspark.sql.types.StructField(f, StringType()) for f in [\"customerID\", \"feature\", \"value\"]]\n",
    ")\n",
    "\n",
    "customerAccountFeatures = session.createDataFrame(schema=accountSchema, data=[])\n",
    "\n",
    "for feature in [\"Contract\", \"PaperlessBilling\", \"PaymentMethod\"]:\n",
    "    df = original_df.select(\n",
    "        \"customerID\",\n",
    "        F.lit(feature).alias(\"feature\"),\n",
    "        original_df[feature].alias(\"value\")\n",
    "    ).where(original_df[feature] != \"No\")\n",
    "    \n",
    "    customerAccountFeatures = customerAccountFeatures.union(df)\n",
    "    \n",
    "write_df(customerAccountFeatures, \"customer_account_features\")\n",
    "\n",
    "    "
   ]
  },
  {
   "cell_type": "code",
   "execution_count": null,
   "metadata": {},
   "outputs": [],
   "source": []
  }
 ],
 "metadata": {
  "celltoolbar": "Tags",
  "kernelspec": {
   "display_name": "Python 3",
   "language": "python",
   "name": "python3"
  },
  "language_info": {
   "codemirror_mode": {
    "name": "ipython",
    "version": 3
   },
   "file_extension": ".py",
   "mimetype": "text/x-python",
   "name": "python",
   "nbconvert_exporter": "python",
   "pygments_lexer": "ipython3",
   "version": "3.8.5"
  }
 },
 "nbformat": 4,
 "nbformat_minor": 4
}
